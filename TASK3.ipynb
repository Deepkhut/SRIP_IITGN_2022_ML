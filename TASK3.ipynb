{
  "nbformat": 4,
  "nbformat_minor": 0,
  "metadata": {
    "colab": {
      "name": "TASK3.ipynb",
      "provenance": [],
      "authorship_tag": "ABX9TyPOnwB+4qOgWooOuIPXeEQO",
      "include_colab_link": true
    },
    "kernelspec": {
      "name": "python3",
      "display_name": "Python 3"
    },
    "language_info": {
      "name": "python"
    }
  },
  "cells": [
    {
      "cell_type": "markdown",
      "metadata": {
        "id": "view-in-github",
        "colab_type": "text"
      },
      "source": [
        "<a href=\"https://colab.research.google.com/github/Deepkhut/SRIP_IITGN_2022_ML/blob/main/TASK3.ipynb\" target=\"_parent\"><img src=\"https://colab.research.google.com/assets/colab-badge.svg\" alt=\"Open In Colab\"/></a>"
      ]
    },
    {
      "cell_type": "code",
      "execution_count": 1,
      "metadata": {
        "id": "Xi4_dIJ0A8_T"
      },
      "outputs": [],
      "source": [
        "##### download MNIST data and store it in under directory _DATA\n",
        "\n",
        "import array\n",
        "import gzip\n",
        "import os\n",
        "from os import path\n",
        "import struct\n",
        "import urllib.request\n",
        "\n",
        "import numpy as np\n",
        "\n",
        "# path to data directory\n",
        "_DATA = \"/tmp/jax_example_data/\"\n",
        "\n",
        "\n",
        "def _download(url, filename):\n",
        "    \"\"\"Download a url to a file in the JAX data temp directory.\"\"\"\n",
        "    if not path.exists(_DATA):\n",
        "        os.makedirs(_DATA)\n",
        "    out_file = path.join(_DATA, filename)\n",
        "    if not path.isfile(out_file):\n",
        "        urllib.request.urlretrieve(url, out_file)\n",
        "        print(\"downloaded {} to {}\".format(url, _DATA))\n",
        "\n",
        "\n",
        "def _partial_flatten(x):\n",
        "    \"\"\"Flatten all but the first dimension of an ndarray.\"\"\"\n",
        "    return np.reshape(x, (x.shape[0], -1))\n",
        "\n",
        "\n",
        "def _one_hot(x, k, dtype=np.float32):\n",
        "    \"\"\"Create a one-hot encoding of x of size k.\"\"\"\n",
        "    return np.array(x[:, None] == np.arange(k), dtype)\n",
        "\n",
        "\n",
        "def mnist_raw():\n",
        "    \"\"\"Download and parse the raw MNIST dataset.\"\"\"\n",
        "    # CVDF mirror of http://yann.lecun.com/exdb/mnist/\n",
        "    base_url = \"https://storage.googleapis.com/cvdf-datasets/mnist/\"\n",
        "\n",
        "    def parse_labels(filename):\n",
        "        with gzip.open(filename, \"rb\") as fh:\n",
        "            _ = struct.unpack(\">II\", fh.read(8))\n",
        "            return np.array(array.array(\"B\", fh.read()), dtype=np.uint8)\n",
        "\n",
        "    def parse_images(filename):\n",
        "        with gzip.open(filename, \"rb\") as fh:\n",
        "            _, num_data, rows, cols = struct.unpack(\">IIII\", fh.read(16))\n",
        "            return np.array(array.array(\"B\", fh.read()),\n",
        "                          dtype=np.uint8).reshape(num_data, rows, cols)\n",
        "\n",
        "    for filename in [\"train-images-idx3-ubyte.gz\", \"train-labels-idx1-ubyte.gz\",\n",
        "                   \"t10k-images-idx3-ubyte.gz\", \"t10k-labels-idx1-ubyte.gz\"]:\n",
        "        _download(base_url + filename, filename)\n",
        "\n",
        "    train_images = parse_images(path.join(_DATA, \"train-images-idx3-ubyte.gz\"))\n",
        "    train_labels = parse_labels(path.join(_DATA, \"train-labels-idx1-ubyte.gz\"))\n",
        "    test_images = parse_images(path.join(_DATA, \"t10k-images-idx3-ubyte.gz\"))\n",
        "    test_labels = parse_labels(path.join(_DATA, \"t10k-labels-idx1-ubyte.gz\"))\n",
        "\n",
        "    return train_images, train_labels, test_images, test_labels\n",
        "\n",
        "\n",
        "def mnist(permute_train=False):\n",
        "    \"\"\"Download, parse and process MNIST data to unit scale and one-hot labels.\"\"\"\n",
        "    train_images, train_labels, test_images, test_labels = mnist_raw()\n",
        "\n",
        "    train_images = _partial_flatten(train_images) / np.float32(255.)\n",
        "    test_images = _partial_flatten(test_images) / np.float32(255.)\n",
        "    train_labels = _one_hot(train_labels, 10)\n",
        "    test_labels = _one_hot(test_labels, 10)\n",
        "\n",
        "    if permute_train:\n",
        "        perm = np.random.RandomState(0).permutation(train_images.shape[0])\n",
        "        train_images = train_images[perm]\n",
        "        train_labels = train_labels[perm]\n",
        "\n",
        "    return train_images, train_labels, test_images, test_labels"
      ]
    },
    {
      "cell_type": "code",
      "source": [
        "def my_generator():\n",
        "    #while True:\n",
        "        for j in range(10):\n",
        "            yield j\n",
        "            \n",
        "gen = my_generator()\n",
        "print(gen) # shows a generator object\n",
        "\n",
        "print('\\nfirst loop:\\n')   \n",
        "\n",
        "# call generator\n",
        "for i in range(4):\n",
        "    print(i, next(gen) )\n",
        "    \n",
        "print('\\nsecond loop:\\n')    \n",
        "    \n",
        "for i in range(10):\n",
        "    print(i, next(gen) )"
      ],
      "metadata": {
        "colab": {
          "base_uri": "https://localhost:8080/",
          "height": 494
        },
        "id": "MVzx_jDVBz5F",
        "outputId": "0f9159cc-8b41-4760-ee87-4b35bd4661cf"
      },
      "execution_count": null,
      "outputs": [
        {
          "output_type": "stream",
          "name": "stdout",
          "text": [
            "<generator object my_generator at 0x7f9e5d538a50>\n",
            "\n",
            "first loop:\n",
            "\n",
            "0 0\n",
            "1 1\n",
            "2 2\n",
            "3 3\n",
            "\n",
            "second loop:\n",
            "\n",
            "0 4\n",
            "1 5\n",
            "2 6\n",
            "3 7\n",
            "4 8\n",
            "5 9\n"
          ]
        },
        {
          "output_type": "error",
          "ename": "StopIteration",
          "evalue": "ignored",
          "traceback": [
            "\u001b[0;31m---------------------------------------------------------------------------\u001b[0m",
            "\u001b[0;31mStopIteration\u001b[0m                             Traceback (most recent call last)",
            "\u001b[0;32m<ipython-input-6-e0008476830e>\u001b[0m in \u001b[0;36m<module>\u001b[0;34m()\u001b[0m\n\u001b[1;32m     16\u001b[0m \u001b[0;34m\u001b[0m\u001b[0m\n\u001b[1;32m     17\u001b[0m \u001b[0;32mfor\u001b[0m \u001b[0mi\u001b[0m \u001b[0;32min\u001b[0m \u001b[0mrange\u001b[0m\u001b[0;34m(\u001b[0m\u001b[0;36m10\u001b[0m\u001b[0;34m)\u001b[0m\u001b[0;34m:\u001b[0m\u001b[0;34m\u001b[0m\u001b[0;34m\u001b[0m\u001b[0m\n\u001b[0;32m---> 18\u001b[0;31m     \u001b[0mprint\u001b[0m\u001b[0;34m(\u001b[0m\u001b[0mi\u001b[0m\u001b[0;34m,\u001b[0m \u001b[0mnext\u001b[0m\u001b[0;34m(\u001b[0m\u001b[0mgen\u001b[0m\u001b[0;34m)\u001b[0m \u001b[0;34m)\u001b[0m\u001b[0;34m\u001b[0m\u001b[0;34m\u001b[0m\u001b[0m\n\u001b[0m",
            "\u001b[0;31mStopIteration\u001b[0m: "
          ]
        }
      ]
    },
    {
      "cell_type": "code",
      "source": [
        "### define minibatches\n",
        "\n",
        "# fix seed\n",
        "seed=0\n",
        "np.random.seed(seed)\n",
        "\n",
        "##### define data variables and the minibatch generator\n",
        "# load MNIST data\n",
        "train_images, train_labels, test_images, test_labels = mnist()\n",
        "\n",
        "print('\\ntrain data: image shape: {}, label shape: {}.'.format(train_images.shape, train_labels.shape ))\n",
        "print('test data : image shape: {}, label shape: {}.\\n'.format(test_images.shape, test_labels.shape ))\n",
        "\n",
        "\n",
        "# size of a single minibatch\n",
        "batch_size=128 \n",
        "# size of the trining set\n",
        "num_train = train_images.shape[0] \n",
        "# define number of complete minibatches (data size need not be muptiple of batch_size)\n",
        "num_complete_batches, leftover = divmod(num_train, batch_size)\n",
        "# total number of minibatches is the smallest integer to fit all minibatches in the dataset\n",
        "num_batches = num_complete_batches + bool(leftover)\n",
        "\n",
        "\n",
        "def data_stream():\n",
        "    \"\"\"\n",
        "    This function defines a generator which produces random batches of data, one at a time.\n",
        "    \n",
        "    \"\"\"\n",
        "    rng = np.random.RandomState(0)\n",
        "    while True:\n",
        "        perm = rng.permutation(num_train) # compute a random permutation\n",
        "        for i in range(num_batches):\n",
        "            batch_idx = perm[i * batch_size:(i + 1) * batch_size]\n",
        "            yield train_images[batch_idx], train_labels[batch_idx]\n",
        "\n",
        "# define the batches generator\n",
        "batches = data_stream()"
      ],
      "metadata": {
        "colab": {
          "base_uri": "https://localhost:8080/"
        },
        "id": "1ztExmVWB1pL",
        "outputId": "8df6c5a4-6e28-42ea-e809-ba14045974e7"
      },
      "execution_count": null,
      "outputs": [
        {
          "output_type": "stream",
          "name": "stdout",
          "text": [
            "\n",
            "train data: image shape: (60000, 784), label shape: (60000, 10).\n",
            "test data : image shape: (10000, 784), label shape: (10000, 10).\n",
            "\n"
          ]
        }
      ]
    },
    {
      "cell_type": "code",
      "source": [
        "import matplotlib\n",
        "from matplotlib import pyplot as plt\n",
        "# static plots\n",
        "%matplotlib inline \n",
        "\n",
        "### show the first data point as an example\n",
        "n=1111 # test data point number\n",
        "\n",
        "plt.imshow(test_images[n].reshape(28,28),cmap='Greys')\n",
        "plt.title('label: {}'.format(test_labels[n]) )\n",
        "\n",
        "plt.show()"
      ],
      "metadata": {
        "colab": {
          "base_uri": "https://localhost:8080/",
          "height": 281
        },
        "id": "KNEELbLcCfFM",
        "outputId": "8f76638e-8e49-4756-d670-d5131e66b134"
      },
      "execution_count": null,
      "outputs": [
        {
          "output_type": "display_data",
          "data": {
            "text/plain": [
              "<Figure size 432x288 with 1 Axes>"
            ],
            "image/png": "[encoded data removed]"
          },
          "metadata": {
            "needs_background": "light"
          }
        }
      ]
    },
    {
      "cell_type": "markdown",
      "source": [
        "Define CNN model"
      ],
      "metadata": {
        "id": "O0bHhIRnEtd0"
      }
    },
    {
      "cell_type": "code",
      "source": [
        "import jax.numpy as jnp   # jax's numpy version with GPU support\n",
        "from jax import random    # used to define a RNG key to control the random input in JAX\n",
        "from jax.experimental import stax # neural network library\n",
        "from jax.experimental.stax import Dense, Relu, LogSoftmax # neural network layers\n",
        "from jax.experimental.stax import GeneralConv, Flatten # neural network layers\n",
        "\n",
        "rng = random.PRNGKey(seed)\n",
        "# cast data into 2D image format\n",
        "train_images = train_images.reshape(-1,1,28,28) # -1: number of data points, 1: input channels, (28,28) = (height, width) dimensions of image\n",
        "test_images = test_images.reshape(-1,1,28,28)\n",
        "\n",
        "# conv net convention\n",
        "dim_nums=('NCHW', 'OIHW', 'NCHW') # default for (input, filters, output)\n",
        "\n",
        "# define functions which initialize the parameters and evaluate the model\n",
        "initialize_params, predict = stax.serial(    \n",
        "                                            ### convolutional NN (CNN)\n",
        "                                            GeneralConv(dim_nums, 16, (4,4), strides=(4,4) ), # 16 output channels, (4,4) filter\n",
        "                                            Relu,\n",
        "                                            GeneralConv(dim_nums, 32, (3,3), strides=(1,1) ), # 32 output channels, (3,3) filter\n",
        "                                            Relu,\n",
        "                                            Flatten, # flatten output\n",
        "                                            Dense(256), # 256 hidden neurons\n",
        "                                            Relu,\n",
        "                                            Dense(10), # 10 output neurons\n",
        "                                            LogSoftmax # NB: computes the log-probability\n",
        "                                        )\n",
        "\n",
        "# initialize the model parameters\n",
        "output_shape, inital_params = initialize_params(rng, (-1, 1, 28, 28)) # conv layer, 1 input channel, 28x28 pixes in each image\n",
        "\n",
        "print('\\noutput shape of the model is {}.\\n'.format(output_shape))\n",
        "\n",
        "# check how network works on 3 examples\n",
        "predictions = predict(inital_params, test_images[0:3])\n",
        "\n",
        "# print shape of output\n",
        "print(\"actual output shape is:\", predictions.shape)\n",
        "\n",
        "# check if probability is conserved\n",
        "print('log(softmax) values:', predictions[0])\n",
        "print('conservation of probability', np.sum(jnp.exp(predictions), axis=1))"
      ],
      "metadata": {
        "colab": {
          "base_uri": "https://localhost:8080/"
        },
        "id": "02qHErJVEx8Q",
        "outputId": "494462b2-3147-459a-b58a-45cd437bed60"
      },
      "execution_count": null,
      "outputs": [
        {
          "output_type": "stream",
          "name": "stderr",
          "text": [
            "/usr/local/lib/python3.7/dist-packages/jax/experimental/stax.py:30: FutureWarning: jax.experimental.stax is deprecated, import jax.example_libraries.stax instead\n",
            "  FutureWarning)\n",
            "WARNING:absl:No GPU/TPU found, falling back to CPU. (Set TF_CPP_MIN_LOG_LEVEL=0 and rerun for more info.)\n"
          ]
        },
        {
          "output_type": "stream",
          "name": "stdout",
          "text": [
            "\n",
            "output shape of the model is (-1, 10).\n",
            "\n",
            "actual output shape is: (3, 10)\n",
            "log(softmax) values: [-2.264744  -2.4081535 -2.2366064 -2.302778  -2.4543524 -2.3551545\n",
            " -2.2510574 -2.1797054 -2.268157  -2.3361628]\n",
            "conservation of probability [1.0000001 1.0000001 1.0000001]\n"
          ]
        }
      ]
    },
    {
      "cell_type": "markdown",
      "source": [
        "Define Loss/cost function"
      ],
      "metadata": {
        "id": "tIH2-GNOGFvp"
      }
    },
    {
      "cell_type": "code",
      "source": [
        "### define loss and accuracy functions\n",
        "\n",
        "from jax import grad\n",
        "from jax.tree_util import tree_flatten # jax params are stored as nested tuples; useing this to manipulate tuples\n",
        "\n",
        "\n",
        "def l2_regularizer(params, lmbda):\n",
        "    \"\"\"\n",
        "    Define l2 regularizer: $\\lambda \\ sum_j ||theta_j||^2 $ for every parameter in the model $\\theta_j$\n",
        "    \n",
        "    \"\"\"\n",
        "    return lmbda*jnp.sum(jnp.array([jnp.sum(jnp.abs(theta)**2) for theta in tree_flatten(params)[0] ]))\n",
        "\n",
        "\n",
        "def loss(params, batch):\n",
        "    \"\"\"\n",
        "    Define cost (or lost) function for softmax classification. \n",
        "    \n",
        "    \"\"\"\n",
        "    inputs, targets = batch\n",
        "    preds = predict(params, inputs)\n",
        "    return -jnp.mean(jnp.sum(preds * targets, axis=1)) + l2_regularizer(params, 0.001)\n",
        "\n",
        "\n",
        "def mean_accuracy(params, batch):\n",
        "    \"\"\"\n",
        "    Define accuracy function: the mean number of datapoints which have correct preductions. \n",
        "    This function is not used for training; only to test the performance. \n",
        "    \n",
        "    \"\"\"\n",
        "    inputs, targets = batch\n",
        "    target_class = jnp.argmax(targets, axis=1)\n",
        "    predicted_class = jnp.argmax(predict(params, inputs), axis=1)\n",
        "    return jnp.mean(predicted_class == target_class)"
      ],
      "metadata": {
        "id": "k5AcdqmlF9IB"
      },
      "execution_count": null,
      "outputs": []
    },
    {
      "cell_type": "markdown",
      "source": [
        "Define the optimizer"
      ],
      "metadata": {
        "id": "DLOaAnyeGUXY"
      }
    },
    {
      "cell_type": "code",
      "source": [
        "### define generalized gradient descent optimizer and a function to update model parameters\n",
        "\n",
        "from jax.experimental import optimizers # gradient descent optimizers\n",
        "from jax import jit\n",
        "\n",
        "step_size = 0.001 # step size or learning rate \n",
        "momentum_mass = 0.9 # \"gamma\" parameter in GD+momentum\n",
        "\n",
        "# compute optimizer functions\n",
        "opt_init, opt_update, get_params = optimizers.momentum(step_size, mass=momentum_mass)\n",
        "\n",
        "\n",
        "# define function which updates the parameters using the change computed by the optimizer\n",
        "@jit # Just In Time compilation speeds up the code; requires to use jnp everywhere; remove when debugging\n",
        "def update(i, opt_state, batch):\n",
        "    \"\"\"\n",
        "    i: int,\n",
        "        counter to count how many update steps we have performed\n",
        "    opt_state: object,\n",
        "        the state of the optimizer\n",
        "    batch: np.array\n",
        "        batch containing the data used to update the model\n",
        "        \n",
        "    Returns: \n",
        "    opt_state: object,\n",
        "        the new state of the optimizer\n",
        "        \n",
        "    \"\"\"\n",
        "    # get current parameters of the model\n",
        "    current_params = get_params(opt_state)\n",
        "    # compute gradients\n",
        "    grad_params = grad(loss)(current_params, batch)\n",
        "    # use the optimizer to perform the update using opt_update\n",
        "    return opt_update(i, grad_params, opt_state)"
      ],
      "metadata": {
        "colab": {
          "base_uri": "https://localhost:8080/"
        },
        "id": "zqE-rPawGRKB",
        "outputId": "e163218a-c1c3-4ec9-ae94-1d9cd70e7a97"
      },
      "execution_count": null,
      "outputs": [
        {
          "output_type": "stream",
          "name": "stderr",
          "text": [
            "/usr/local/lib/python3.7/dist-packages/jax/experimental/optimizers.py:30: FutureWarning: jax.experimental.optimizers is deprecated, import jax.example_libraries.optimizers instead\n",
            "  FutureWarning)\n"
          ]
        }
      ]
    },
    {
      "cell_type": "markdown",
      "source": [
        "Train Model"
      ],
      "metadata": {
        "id": "67MY4cWjGseP"
      }
    },
    {
      "cell_type": "code",
      "source": [
        "import time\n",
        "import itertools\n",
        "\n",
        "# define geenrator to count the number of updates\n",
        "itercount = itertools.count()\n",
        "\n",
        "# define number of training epochs\n",
        "num_epochs = 101\n",
        "\n",
        "# define figures of merit\n",
        "train_accuracy=np.zeros(num_epochs)\n",
        "test_accuracy=np.zeros_like(train_accuracy)\n",
        "\n",
        "print(\"\\nStarting training...\\n\")\n",
        "\n",
        "# set the initial model parameters in the optimizer\n",
        "opt_state = opt_init(inital_params)\n",
        "\n",
        "# loop over the number of training epochs\n",
        "for epoch in range(num_epochs): \n",
        "    \n",
        "    ### record time\n",
        "    start_time = time.time()\n",
        "    \n",
        "    ### train in minibatches until the entire dataset is exhausted: \n",
        "    # the entire dataset is divided into _random_ minibatches; \n",
        "    # all minibatches are shown to the model before going to next epoch\n",
        "    for _ in range(num_batches):\n",
        "        # use the data to update the model parameters\n",
        "        opt_state = update(next(itercount), opt_state, next(batches))\n",
        "        \n",
        "    ### record time needed for a single epoch\n",
        "    epoch_time = time.time() - start_time\n",
        "    \n",
        "    ### evaluate performance of the model at each fixed epoch\n",
        "    \n",
        "    # retrieve current model parameters\n",
        "    params = get_params(opt_state)\n",
        "    \n",
        "    # measure the accuracy on the training and test datasets\n",
        "    train_accuracy[epoch] = mean_accuracy(params, (train_images, train_labels))\n",
        "    test_accuracy[epoch] = mean_accuracy(params, (test_images, test_labels))\n",
        "    \n",
        "    # print results every 10 epochs\n",
        "    if epoch % 10 == 0:\n",
        "        print(\"Epoch {} in {:0.2f} sec\".format(epoch, epoch_time))\n",
        "        print(\"Training set accuracy {}\".format(train_accuracy[epoch]))\n",
        "        print(\"Test set accuracy {}\\n\".format(test_accuracy[epoch]))"
      ],
      "metadata": {
        "colab": {
          "base_uri": "https://localhost:8080/"
        },
        "id": "VyM0dNvPGrIl",
        "outputId": "7b571cd1-90b0-4b08-f098-f6b9f1d93346"
      },
      "execution_count": null,
      "outputs": [
        {
          "output_type": "stream",
          "name": "stdout",
          "text": [
            "\n",
            "Starting training...\n",
            "\n",
            "Epoch 0 in 9.64 sec\n",
            "Training set accuracy 0.8501333594322205\n",
            "Test set accuracy 0.8628999590873718\n",
            "\n",
            "Epoch 10 in 9.73 sec\n",
            "Training set accuracy 0.9580000042915344\n",
            "Test set accuracy 0.9599999785423279\n",
            "\n",
            "Epoch 20 in 7.85 sec\n",
            "Training set accuracy 0.972516655921936\n",
            "Test set accuracy 0.9708999991416931\n",
            "\n",
            "Epoch 30 in 7.97 sec\n",
            "Training set accuracy 0.9777833223342896\n",
            "Test set accuracy 0.9739999771118164\n",
            "\n",
            "Epoch 40 in 7.88 sec\n",
            "Training set accuracy 0.9822500348091125\n",
            "Test set accuracy 0.9771999716758728\n",
            "\n",
            "Epoch 50 in 7.92 sec\n",
            "Training set accuracy 0.9850333333015442\n",
            "Test set accuracy 0.9800999760627747\n",
            "\n",
            "Epoch 60 in 7.87 sec\n",
            "Training set accuracy 0.9858666658401489\n",
            "Test set accuracy 0.9789999723434448\n",
            "\n",
            "Epoch 70 in 7.72 sec\n",
            "Training set accuracy 0.9880833625793457\n",
            "Test set accuracy 0.9803999662399292\n",
            "\n",
            "Epoch 80 in 8.09 sec\n",
            "Training set accuracy 0.9890833497047424\n",
            "Test set accuracy 0.9818999767303467\n",
            "\n",
            "Epoch 90 in 8.02 sec\n",
            "Training set accuracy 0.989549994468689\n",
            "Test set accuracy 0.9817999601364136\n",
            "\n",
            "Epoch 100 in 8.06 sec\n",
            "Training set accuracy 0.9898499846458435\n",
            "Test set accuracy 0.9818999767303467\n",
            "\n"
          ]
        }
      ]
    }
  ]
}