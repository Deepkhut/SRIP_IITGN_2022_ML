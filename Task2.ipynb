{
  "nbformat": 4,
  "nbformat_minor": 0,
  "metadata": {
    "colab": {
      "name": "Task2.ipynb",
      "provenance": [],
      "authorship_tag": "ABX9TyMLMx921HA5mi+L+FsUY2q1",
      "include_colab_link": true
    },
    "kernelspec": {
      "name": "python3",
      "display_name": "Python 3"
    },
    "language_info": {
      "name": "python"
    }
  },
  "cells": [
    {
      "cell_type": "markdown",
      "metadata": {
        "id": "view-in-github",
        "colab_type": "text"
      },
      "source": [
        "<a href=\"https://colab.research.google.com/github/Deepkhut/SRIP_IITGN_2022_ML/blob/main/Task2.ipynb\" target=\"_parent\"><img src=\"https://colab.research.google.com/assets/colab-badge.svg\" alt=\"Open In Colab\"/></a>"
      ]
    },
    {
      "cell_type": "code",
      "execution_count": 4,
      "metadata": {
        "id": "-EBt12yQ09H9",
        "colab": {
          "base_uri": "https://localhost:8080/"
        },
        "outputId": "00d3dc02-4b6b-417b-a705-d572d31a1d03"
      },
      "outputs": [
        {
          "output_type": "execute_result",
          "data": {
            "text/plain": [
              "DeviceArray([[ 94.373   , 155.66171 , 104.40173 ],\n",
              "             [ 70.55298 , 190.05403 , 113.43881 ],\n",
              "             [ 60.45697 ,  61.962093, 197.49802 ]], dtype=float32)"
            ]
          },
          "metadata": {},
          "execution_count": 4
        }
      ],
      "source": [
        "from typing import Optional\n",
        "import jax\n",
        "import jax.numpy as jnp  # jax's numpy version with GPU support\n",
        "import numpy as np\n",
        "from jax import random\n",
        "\n",
        "key = random.PRNGKey(42)\n",
        "cov = jax.random.uniform(jax.random.PRNGKey(0), shape=(3,3), minval=0, maxval=256)\n",
        "mean = jax.random.uniform(jax.random.PRNGKey(0), shape=(3,3), minval=0, maxval=256)\n",
        "\n",
        "x1 = jax.random.multivariate_normal(key, mean, cov, shape=(3, ))\n",
        "x1\n"
      ]
    }
  ]
}